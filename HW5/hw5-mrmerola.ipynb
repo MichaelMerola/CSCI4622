{
 "cells": [
  {
   "cell_type": "markdown",
   "metadata": {
    "deletable": false,
    "editable": false,
    "nbgrader": {
     "cell_type": "markdown",
     "checksum": "62bf88c99cd0d6e2c37def0a8b14df50",
     "grade": false,
     "grade_id": "cell-91b5455492f6a6b0",
     "locked": true,
     "schema_version": 3,
     "solution": false,
     "task": false
    }
   },
   "source": [
    "# Homework 5\n",
    "\n",
    "This homeworks consists of two parts: theory and applications. You will:\n",
    "\n",
    "In the **theory** part:\n",
    "1. Practice applying the definitions of **convexity**\n",
    "2. (Extra Credit, at the end): Prove a statement regarding **gradient descent**.\n",
    "\n",
    "In the **applications** part:\n",
    "1. Code a simple gradient descent procedure and analyze the effects of **step size** and **noise**. \n",
    "2. Use your understanding of SVM to perform image classification on the dataset [Fashion MNIST](https://github.com/zalandoresearch/fashion-mnist). For this task we will use `skimage` Python library to generate special image features to feed to the SVM classifier. \n"
   ]
  },
  {
   "cell_type": "code",
   "execution_count": 1,
   "metadata": {},
   "outputs": [],
   "source": [
    "# Michael Merola, mime4339\n",
    "\n",
    "# COLLABORATORS \n",
    "# Krish Dholakiya, Amari Hoogland"
   ]
  },
  {
   "cell_type": "markdown",
   "metadata": {
    "deletable": false,
    "editable": false,
    "nbgrader": {
     "cell_type": "markdown",
     "checksum": "68a9593a19fdd35cfad13d587d60be0e",
     "grade": false,
     "grade_id": "cell-c4a56584f30dd58c",
     "locked": true,
     "schema_version": 3,
     "solution": false,
     "task": false
    }
   },
   "source": [
    "## Part 1: Theory / Written Problems (6 pts)\n",
    "\n",
    "You must attempt all problems for credit. Please ask for help early if you are unsure.\n",
    "\n",
    "### Question 1 (6 pts)\n",
    "\n",
    "Show using a couple equations or inequalities) whether the following functions are or are not **convex**. Your argument must contain more than just a graphical argument.\n",
    "\n",
    "1.  $ f(x) = x^2 $, where $x \\in \\mathbb{R}$ is a scalar.\n",
    "2. $ f(x) = \\sin(x) $ where x is a scalar.\n",
    "3. $ f(x) = x^T A x + b^Tx + c$, where $A$ is a positive definite $d \\times d$ matrix and $x \\in \\mathbb{R}^d$ is a d-dimensional vector. $b$ is a constant d-dimensional vector and $c$ is a constant scalar."
   ]
  },
  {
   "cell_type": "markdown",
   "metadata": {
    "deletable": false,
    "nbgrader": {
     "cell_type": "markdown",
     "checksum": "e7c2f7be4444e7dc18454fc794191735",
     "grade": true,
     "grade_id": "cell-e721430b607a9d26",
     "locked": false,
     "points": 6,
     "schema_version": 3,
     "solution": true,
     "task": false
    }
   },
   "source": [
    "1. $ f'(x) = 2x $\n",
    "\n",
    "   $ f''(x) = 2 $\n",
    "   \n",
    "   $ 2 > 0 $ always, so the function is **convex**\n",
    "   \n",
    "   \n",
    "2. $ f'(x) = \\cos(x) $\n",
    "   \n",
    "   $ f''(x) = -\\sin(x) $\n",
    "   \n",
    "   the graph of $-\\sin(x)$ is not always > 0, so it is **not convex**\n",
    "   \n",
    "   \n",
    "3. $ f(x) = x^T A x + b^Tx + c $\n",
    "\n",
    "   $ f'(x) = x^T A + b^T $\n",
    "   \n",
    "   $ f''(x) = A $\n",
    "   \n",
    "   the Hessian matrix of $f(x)$ is A itself; since A is a positive definite matrix, the Hessian is always > 0 and the function is **convex**"
   ]
  },
  {
   "cell_type": "markdown",
   "metadata": {
    "deletable": false,
    "editable": false,
    "nbgrader": {
     "cell_type": "markdown",
     "checksum": "a4a007319ba144c9cba56260174328bd",
     "grade": false,
     "grade_id": "cell-0da82143bd3ed776",
     "locked": true,
     "schema_version": 3,
     "solution": false,
     "task": false
    }
   },
   "source": [
    "## Part 2: Gradient Descent Coding Exercise (10 pts)\n",
    "\n",
    "Consider the function given below:\n",
    "$$\\psi(x) = \\bigg(\\frac{x}{2}-3\\bigg)^2$$\n",
    "\n",
    "If the task was to find the minima of the function above, one way of doing this would be to calculate the derivative of the function $f'(x)$ and find the value of $x$ for which $f'(x) = 0$. <br>\n",
    "\n",
    "But we learned another technique in class which also involved calculating derivatives(partial derivatives) with respect to parameters which would minimize a  loss function for a machine learning algorithm for which finding the optima isn't as straight forward as described in the paragraph above. This technique is __Gradient Descent__. \n",
    "\n",
    "It involves initializing the parameter to be optimized at a random location in the landscape(curve described by the function) of the function and taking controlled steps toward the optima of an amount proportional to the negative of the gradient at that current point. Say we were trying to optimize a function $f(\\Theta)$ which is a function of $\\Theta = \\{\\theta_i | i\\in\\{1...n\\}\\}$. Taking a step toward the minima would look as below:\n",
    "$$ \\theta_i = \\theta_i - \\alpha \\frac{\\delta}{\\delta\\theta_i}f(\\Theta)$$\n",
    "\n",
    "In the following sections we shall optimize the single parameter function $\\psi(x)$ using gradient descent."
   ]
  },
  {
   "cell_type": "code",
   "execution_count": 2,
   "metadata": {
    "deletable": false,
    "editable": false,
    "nbgrader": {
     "cell_type": "code",
     "checksum": "5b8223073662e8916adbba83bf62831d",
     "grade": false,
     "grade_id": "cell-5f246c5bf017acd3",
     "locked": true,
     "schema_version": 3,
     "solution": false,
     "task": false
    }
   },
   "outputs": [],
   "source": [
    "import numpy as np\n",
    "import matplotlib.pyplot as plt\n",
    "import time"
   ]
  },
  {
   "cell_type": "code",
   "execution_count": 3,
   "metadata": {
    "deletable": false,
    "nbgrader": {
     "cell_type": "code",
     "checksum": "1bbefbda5b766c11cc4bf119d06674b1",
     "grade": false,
     "grade_id": "cell-9d06051959c79ae5",
     "locked": false,
     "schema_version": 3,
     "solution": true,
     "task": false
    }
   },
   "outputs": [],
   "source": [
    "def function(x):\n",
    "    \"\"\"\n",
    "    Given a variable / np.array of variables x return the corresponding values of function descibed above\n",
    "    Note that this x can be single numeric variable or a numpy array\n",
    "\n",
    "    Args: x - single numeric variable or a np.array\n",
    "\n",
    "    Returns: \n",
    "          y - corresponding value for the function described\n",
    "    \"\"\"\n",
    "    # YOUR CODE HERE\n",
    "\n",
    "    if (isinstance(x, np.ndarray)):\n",
    "        fs = []\n",
    "        for i in x:\n",
    "            fs.append((i/2 - 3)**2)\n",
    "            \n",
    "        return np.array(fs)\n",
    "    \n",
    "    else:\n",
    "        return ((x/2 - 3)**2)"
   ]
  },
  {
   "cell_type": "code",
   "execution_count": 4,
   "metadata": {
    "deletable": false,
    "editable": false,
    "nbgrader": {
     "cell_type": "code",
     "checksum": "2e19cb64de96845f29262838db87a22a",
     "grade": true,
     "grade_id": "cell-1ee3372bca36abaa",
     "locked": true,
     "points": 2,
     "schema_version": 3,
     "solution": false,
     "task": false
    }
   },
   "outputs": [],
   "source": [
    "# Here are a couple of tests to check your implementation\n",
    "test_fx = function(2.0)\n",
    "assert( test_fx == 4)\n",
    "test_fx2 = function(6.0)\n",
    "assert(test_fx2 == 0.0)"
   ]
  },
  {
   "cell_type": "code",
   "execution_count": 5,
   "metadata": {
    "deletable": false,
    "nbgrader": {
     "cell_type": "code",
     "checksum": "a42eb3b98349a896408a4a454aaa06e2",
     "grade": false,
     "grade_id": "cell-a03727a0b3870cf2",
     "locked": false,
     "schema_version": 3,
     "solution": true,
     "task": false
    }
   },
   "outputs": [],
   "source": [
    "def gradient(x):\n",
    "    \"\"\"\n",
    "    Given a numeric variable x calculate the corresponding gradient value which is the value of f'(x)\n",
    "    \n",
    "    Args: x - single numeric variable\n",
    "          \n",
    "    Returns: \n",
    "          delta - corresponding value for the derivative of the function being considered\n",
    "    \"\"\"\n",
    "    # YOUR CODE HERE\n",
    "    \n",
    "    return (x/2 - 3)"
   ]
  },
  {
   "cell_type": "code",
   "execution_count": 6,
   "metadata": {
    "deletable": false,
    "editable": false,
    "nbgrader": {
     "cell_type": "code",
     "checksum": "d4247f6ca83be2edd8807c8a051614c8",
     "grade": true,
     "grade_id": "cell-123b8a56f741ab41",
     "locked": true,
     "points": 2,
     "schema_version": 3,
     "solution": false,
     "task": false
    }
   },
   "outputs": [],
   "source": [
    "test_fx_grad = gradient(2.0)\n",
    "assert( test_fx_grad == -2)\n",
    "assert(gradient(6.0) == 0.0)"
   ]
  },
  {
   "cell_type": "code",
   "execution_count": 7,
   "metadata": {
    "deletable": false,
    "nbgrader": {
     "cell_type": "code",
     "checksum": "267db163ffd0b47f45cc0e708fadab76",
     "grade": true,
     "grade_id": "cell-79bcf480ee20775b",
     "locked": false,
     "points": 2,
     "schema_version": 3,
     "solution": true,
     "task": false
    }
   },
   "outputs": [],
   "source": [
    "def gradient_descent(x, alpha):\n",
    "    \"\"\"\n",
    "    Given a numeric variable x calculate the corresponding gradient value which is the value of f'(x)\n",
    "    \n",
    "    You should terminate your function when either \n",
    "    \n",
    "    1. 1000 steps have been reached\n",
    "    or\n",
    "    2. The norm of the step size is less than some fixed, small value (like 1e-3)\n",
    "    \n",
    "    Args: \n",
    "        x - single numeric variable or a np.array from where the optimization must start.\n",
    "        alpha - learning rate / step size to control the updates made to x during the optimization process\n",
    "        \n",
    "          \n",
    "    Returns: \n",
    "          path (np.ndarray) that contains the values x takes while approaching the minima\n",
    "          steps (int) that is the number of steps it had to take to reach there\n",
    "    \"\"\"\n",
    "    # YOUR CODE HERE\n",
    "    \n",
    "    MAX = 1000\n",
    "    precision = 1e-3\n",
    "    \n",
    "    steps = 0\n",
    "    path = []\n",
    "    theta = 9999999\n",
    "    current_x = x\n",
    "    \n",
    "    while steps < MAX and theta > precision :\n",
    "        \n",
    "        past_x = current_x\n",
    "        current_x = past_x - alpha*gradient(past_x) \n",
    "        theta = abs(current_x - past_x)\n",
    "        \n",
    "        path.append(current_x)\n",
    "        steps += 1\n",
    "\n",
    "    return np.array(path), steps\n",
    "        "
   ]
  },
  {
   "cell_type": "markdown",
   "metadata": {
    "deletable": false,
    "editable": false,
    "nbgrader": {
     "cell_type": "markdown",
     "checksum": "b0c8082861c329d903578473a4982df7",
     "grade": false,
     "grade_id": "cell-e7bd750d96ed123a",
     "locked": true,
     "schema_version": 3,
     "solution": false,
     "task": false
    }
   },
   "source": [
    "4. Complete the function below that tracks the paths followed(different values of $x$ as you perform the updates) and number of steps taken by gradient descent for $x$ initialized at specific value and a range of alpha values specified and stores the results in a dicitionary indexed on the alpha values. Structure of the Dictionary returned has been described below. \n",
    "\n",
    "The following cell is a test which get the results for $x=-20.0$ and $\\alpha$ values `[0.0001, 0.01, 0.1, 0.2, 1.0, 3.0, 5.0]` and prints number of steps taken for each alpha value. "
   ]
  },
  {
   "cell_type": "code",
   "execution_count": 8,
   "metadata": {
    "deletable": false,
    "nbgrader": {
     "cell_type": "code",
     "checksum": "7ecc16bf78adff9e409163d391a21e5b",
     "grade": false,
     "grade_id": "cell-062d8bbe8db86795",
     "locked": false,
     "schema_version": 3,
     "solution": true,
     "task": false
    }
   },
   "outputs": [],
   "source": [
    "def optimize_and_evaluate(x, alphas):\n",
    "    \"\"\"\n",
    "    Given a numeric variable x which contains the starting point in the function curve\n",
    "    and the set of learning rates provided in alphas track the path followed and steps while performing gradient\n",
    "    descent using gradient_descent function you wrote above and return it in a dictionary indexed on alpha values.\n",
    "    \n",
    "    Args: \n",
    "        x - single numeric variable or a np.array from where the optimization must start.\n",
    "        alphas - learning rates / step sizes to control the updates made to x during the optimization process\n",
    "        \n",
    "          \n",
    "    Returns: \n",
    "          gradient_descents ( dict() ) which has the following structure\n",
    "          {\n",
    "              alpha_1 : {\n",
    "                  path : np.ndarray(),\n",
    "                  steps : int\n",
    "              }\n",
    "              ...\n",
    "          }\n",
    "          \n",
    "          eg. \n",
    "          {\n",
    "              0.1 : {\n",
    "                  path: [1,2,3...],\n",
    "                  steps : 10\n",
    "              },\n",
    "              0.2 : {\n",
    "                  path: [1,2,3...],\n",
    "                  steps : 10\n",
    "              },... \n",
    "          }\n",
    "    \"\"\"\n",
    "    # YOUR CODE HERE\n",
    "    gradient_descents = {a:{} for a in alphas}\n",
    "    \n",
    "    for a in alphas:\n",
    "        path, steps = gradient_descent(x, a)\n",
    "        \n",
    "        gradient_descents[a]['path'] = path\n",
    "        gradient_descents[a]['steps'] = steps\n",
    "        \n",
    "    return gradient_descents"
   ]
  },
  {
   "cell_type": "code",
   "execution_count": 9,
   "metadata": {
    "deletable": false,
    "editable": false,
    "nbgrader": {
     "cell_type": "code",
     "checksum": "2a6087c3965085a60f9af83643082e6d",
     "grade": true,
     "grade_id": "cell-993e0c0f553b365a",
     "locked": true,
     "points": 2,
     "schema_version": 3,
     "solution": false,
     "task": false
    }
   },
   "outputs": [
    {
     "name": "stdout",
     "output_type": "stream",
     "text": [
      "1000\n",
      "973\n",
      "141\n",
      "76\n",
      "15\n",
      "17\n",
      "1000\n"
     ]
    }
   ],
   "source": [
    "# Runs your code above and prints the number of steps until termination.\n",
    "alphas = [0.0001, 0.01, 0.1, 0.2, 1.0, 3.0, 5.0]\n",
    "x = -20.0\n",
    "result = optimize_and_evaluate(x, alphas)\n",
    "for alpha in alphas:\n",
    "    print(result[alpha]['steps'])"
   ]
  },
  {
   "cell_type": "markdown",
   "metadata": {
    "deletable": false,
    "editable": false,
    "nbgrader": {
     "cell_type": "markdown",
     "checksum": "664cf0e9e9a78fbf44aa9658675ddf0e",
     "grade": false,
     "grade_id": "cell-c8d981a952139e04",
     "locked": true,
     "schema_version": 3,
     "solution": false,
     "task": false
    }
   },
   "source": [
    "5. The below code plots the results of the procedure which you have written. Inspect the plots and answer the below questions."
   ]
  },
  {
   "cell_type": "code",
   "execution_count": 10,
   "metadata": {},
   "outputs": [
    {
     "data": {
      "image/png": "[encoded data removed]",
      "text/plain": [
       "<Figure size 432x288 with 1 Axes>"
      ]
     },
     "metadata": {
      "needs_background": "light"
     },
     "output_type": "display_data"
    },
    {
     "data": {
      "image/png": "[encoded data removed]",
      "text/plain": [
       "<Figure size 432x288 with 1 Axes>"
      ]
     },
     "metadata": {
      "needs_background": "light"
     },
     "output_type": "display_data"
    },
    {
     "data": {
      "image/png": "[encoded data removed]",
      "text/plain": [
       "<Figure size 432x288 with 1 Axes>"
      ]
     },
     "metadata": {
      "needs_background": "light"
     },
     "output_type": "display_data"
    },
    {
     "data": {
      "image/png": "[encoded data removed]",
      "text/plain": [
       "<Figure size 432x288 with 1 Axes>"
      ]
     },
     "metadata": {
      "needs_background": "light"
     },
     "output_type": "display_data"
    },
    {
     "data": {
      "image/png": "[encoded data removed]",
      "text/plain": [
       "<Figure size 432x288 with 1 Axes>"
      ]
     },
     "metadata": {
      "needs_background": "light"
     },
     "output_type": "display_data"
    },
    {
     "data": {
      "image/png": "[encoded data removed]",
      "text/plain": [
       "<Figure size 432x288 with 1 Axes>"
      ]
     },
     "metadata": {
      "needs_background": "light"
     },
     "output_type": "display_data"
    },
    {
     "name": "stderr",
     "output_type": "stream",
     "text": [
      "/Users/mrmerola/anaconda3/lib/python3.6/site-packages/ipykernel_launcher.py:16: RuntimeWarning: overflow encountered in double_scalars\n",
      "  app.launch_new_instance()\n",
      "/Users/mrmerola/anaconda3/lib/python3.6/site-packages/matplotlib/ticker.py:2036: RuntimeWarning: overflow encountered in multiply\n",
      "  steps = self._extended_steps * scale\n"
     ]
    },
    {
     "data": {
      "image/png": "[encoded data removed]",
      "text/plain": [
       "<Figure size 432x288 with 1 Axes>"
      ]
     },
     "metadata": {
      "needs_background": "light"
     },
     "output_type": "display_data"
    }
   ],
   "source": [
    "X = np.linspace(-30.0, 30, 200)\n",
    "y = function(X)\n",
    "#print(y)\n",
    "for alpha in alphas:\n",
    "    plt.plot(X, y)\n",
    "    plt.plot(result[alpha]['path'], function(result[alpha]['path']), color = \"red\")\n",
    "    plt.show()"
   ]
  },
  {
   "cell_type": "markdown",
   "metadata": {
    "deletable": false,
    "editable": false,
    "nbgrader": {
     "cell_type": "markdown",
     "checksum": "7cd792ed394c779231cf2853b6cab81b",
     "grade": false,
     "grade_id": "cell-7eb3cdf38f32df4dfdfdc6ff",
     "locked": true,
     "schema_version": 3,
     "solution": false,
     "task": false
    }
   },
   "source": [
    "6. Comment on what you observe:\n",
    "\n",
    "How does the value of $\\alpha$ affect the path followed and steps taken? \n",
    "\n",
    "How does the slope of the function interact with the learning rate? I.e. if we had a function that was a \"shallower\" quadratic function than above or \"steeper\", is our maximally convergent $\\alpha$ larger or smaller than what we have for this function?"
   ]
  },
  {
   "cell_type": "markdown",
   "metadata": {
    "deletable": false,
    "nbgrader": {
     "cell_type": "markdown",
     "checksum": "1c426794ad9b07bda61f5c69522e74f1",
     "grade": true,
     "grade_id": "cell-ffb780a3cbaf207b",
     "locked": false,
     "points": 4,
     "schema_version": 3,
     "solution": true,
     "task": false
    }
   },
   "source": [
    "The $\\alpha$ value learning rate determines the step size at each iteration of the algorithm, so the larger $\\alpha$ the more steps taken towards the minimum. \n",
    "\n",
    "If the slope of the function is shallow, then the learning rate $\\alpha$ should be low so that it does not overshoot the minimum. For a function that is very steep, the learning rate should be higher to reach the minimum effeciently."
   ]
  },
  {
   "cell_type": "markdown",
   "metadata": {
    "deletable": false,
    "editable": false,
    "nbgrader": {
     "cell_type": "markdown",
     "checksum": "dfe0a453659310ae470dac2cbad26cc4",
     "grade": false,
     "grade_id": "cell-6de5c713d0bd8811",
     "locked": true,
     "schema_version": 3,
     "solution": false,
     "task": false
    }
   },
   "source": [
    "## Part Three: Support-Vector Machine Coding Exercise \n",
    "\n",
    "In this part we will perform multi-class classification with SVM to classify images of clothing from [Fashion MNIST](https://github.com/zalandoresearch/fashion-mnist).\n",
    "\n",
    "The whole point of this dataset is to be a drop-in replacement for MNIST. All the images are 28x28 pixels and there are 10 classes (see the below code). There are 60000 training images and 10000 testing images. However, it is in general much harder than MNIST. \n",
    "\n",
    "To manage the runtime complexity of using this dataset, we will only use 2000 training images, and 10k testing images.\n",
    "\n",
    "If you go to the link above, and scroll to the bottom of the GitHub page, you will find a listing of models with reported accuracies. There are some pretty powerful neural networks which only achieve accuracies in the low 90%. There are reported models that use SVM at about ~88%. Because we are going to \"compete\" with these metrics, we will only use accuracy as a score here. \n",
    "\n",
    "The below code downloads and performs feature extraction on the images using DAISY features, which are similar to SIFT features. It's not too important that you understand exactly what they are, but do know that **it will take a couple minutes to perform this process.**"
   ]
  },
  {
   "cell_type": "markdown",
   "metadata": {
    "deletable": false,
    "editable": false,
    "nbgrader": {
     "cell_type": "markdown",
     "checksum": "50c92932e21c983caab6ae76cac0f0c5",
     "grade": false,
     "grade_id": "cell-623538454adaecc5",
     "locked": true,
     "schema_version": 3,
     "solution": false,
     "task": false
    }
   },
   "source": [
    "### About the SIFT-like Features (DAISY Features)\n",
    "\n",
    "Just like how we used Haar features before, we need to create some features to classify the images. Using the raw pixel values like before is going to perform rather poorly. Instead we will use computed features called [DAISY](https://www.epfl.ch/labs/cvlab/software/descriptors-and-keypoints/daisy/) features."
   ]
  },
  {
   "cell_type": "code",
   "execution_count": 11,
   "metadata": {
    "deletable": false,
    "editable": false,
    "nbgrader": {
     "cell_type": "code",
     "checksum": "2c2a61d34256a3a877aa369ef22144e2",
     "grade": false,
     "grade_id": "cell-63f6d27755c8b3ad",
     "locked": true,
     "schema_version": 3,
     "solution": false,
     "task": false
    }
   },
   "outputs": [
    {
     "ename": "ModuleNotFoundError",
     "evalue": "No module named 'mnist'",
     "output_type": "error",
     "traceback": [
      "\u001b[0;31m---------------------------------------------------------------------------\u001b[0m",
      "\u001b[0;31mModuleNotFoundError\u001b[0m                       Traceback (most recent call last)",
      "\u001b[0;32m<ipython-input-11-f23bb222137f>\u001b[0m in \u001b[0;36m<module>\u001b[0;34m\u001b[0m\n\u001b[0;32m----> 1\u001b[0;31m \u001b[0;32mfrom\u001b[0m \u001b[0mmnist\u001b[0m \u001b[0;32mimport\u001b[0m \u001b[0mget_fashion_mnist\u001b[0m\u001b[0;34m\u001b[0m\u001b[0;34m\u001b[0m\u001b[0m\n\u001b[0m\u001b[1;32m      2\u001b[0m \u001b[0;32mfrom\u001b[0m \u001b[0msklearn\u001b[0m\u001b[0;34m.\u001b[0m\u001b[0mmodel_selection\u001b[0m \u001b[0;32mimport\u001b[0m \u001b[0mtrain_test_split\u001b[0m\u001b[0;34m\u001b[0m\u001b[0;34m\u001b[0m\u001b[0m\n\u001b[1;32m      3\u001b[0m \u001b[0;32mimport\u001b[0m \u001b[0mos\u001b[0m\u001b[0;34m\u001b[0m\u001b[0;34m\u001b[0m\u001b[0m\n\u001b[1;32m      4\u001b[0m \u001b[0;32mimport\u001b[0m \u001b[0mmatplotlib\u001b[0m\u001b[0;34m.\u001b[0m\u001b[0mpyplot\u001b[0m \u001b[0;32mas\u001b[0m \u001b[0mplt\u001b[0m\u001b[0;34m\u001b[0m\u001b[0;34m\u001b[0m\u001b[0m\n\u001b[1;32m      5\u001b[0m \u001b[0;32mimport\u001b[0m \u001b[0mtime\u001b[0m\u001b[0;34m\u001b[0m\u001b[0;34m\u001b[0m\u001b[0m\n",
      "\u001b[0;31mModuleNotFoundError\u001b[0m: No module named 'mnist'"
     ]
    }
   ],
   "source": [
    "from mnist import get_fashion_mnist\n",
    "from sklearn.model_selection import train_test_split\n",
    "import os \n",
    "import matplotlib.pyplot as plt\n",
    "import time\n",
    "import numpy as np\n",
    "import cv2\n",
    "import skimage\n",
    "from skimage.feature import daisy\n",
    "from sklearn import preprocessing\n",
    "\n",
    "def extract_features(images, visualize_first=False):\n",
    "    feature_size=792\n",
    "    features = np.zeros((images.shape[0], feature_size))\n",
    "    print(\"Extracting features this may take a couple minutes...\")\n",
    "    start = time.time()\n",
    "    for idx, img in enumerate(images):\n",
    "        visualize = False\n",
    "        if(idx == 0 and visualize_first == True):\n",
    "            visualize=True\n",
    "        descs = daisy(images[idx].astype(np.uint8), step=4, radius=8, rings=2,histograms=5,\n",
    "                             visualize=visualize)\n",
    "        if(visualize):\n",
    "            plt.imshow(descs[1])\n",
    "            plt.show()\n",
    "            descs = descs[0]\n",
    "        features[idx, :] = descs.reshape(-1)\n",
    "    end = time.time()\n",
    "    print(\"Done. {:.2f} msec\".format((end-start)*1000))\n",
    "    features = preprocessing.scale(features)\n",
    "    return features\n",
    "\n",
    "\n",
    "def get_fashion_dataset(subset_train=2000, subset_test=10000):\n",
    "    x_train,y_train,x_test,y_test = get_fashion_mnist('./')\n",
    "    x_train,_,y_train,_ = train_test_split(x_train,y_train, train_size=subset_train, \n",
    "                                           stratify=y_train, random_state=42, shuffle=True)\n",
    "    x_test = x_test[:subset_test]\n",
    "    y_test = y_test[:subset_test]\n",
    "    dataset = {\n",
    "        'train': {\n",
    "            'images': x_train,\n",
    "            'labels': y_train,\n",
    "            'features': extract_features(x_train)\n",
    "        },\n",
    "        'test': {\n",
    "            'images': x_test,\n",
    "            'labels': y_test,\n",
    "            'features': extract_features(x_test)\n",
    "        }\n",
    "    }\n",
    "    return dataset\n",
    "\n",
    "def get_label_txt(labels):\n",
    "    '''\n",
    "    labels must be a 1-d integer np.array or an integer label.\n",
    "    will return the string for that label\n",
    "    '''\n",
    "    strings = np.array([\n",
    "            \"t-short/top\",\"trouser\",\"pullover\",\"dress\",\"coat\",\"sandal\",\"shirt\",\"sneaker\",\"bag\",\n",
    "            \"ankle boot\"\n",
    "    ])\n",
    "    return strings[labels]\n",
    "\n",
    "\n",
    "dataset = get_fashion_dataset()"
   ]
  },
  {
   "cell_type": "code",
   "execution_count": 12,
   "metadata": {},
   "outputs": [],
   "source": [
    "def plot_image(image, label):\n",
    "    plt.figure()\n",
    "    plt.imshow(image, cmap='gray')\n",
    "    label_text = get_label_txt(label)\n",
    "    plt.title(label_text)\n",
    "    plt.show()"
   ]
  },
  {
   "cell_type": "code",
   "execution_count": 13,
   "metadata": {},
   "outputs": [
    {
     "ename": "NameError",
     "evalue": "name 'dataset' is not defined",
     "output_type": "error",
     "traceback": [
      "\u001b[0;31m---------------------------------------------------------------------------\u001b[0m",
      "\u001b[0;31mNameError\u001b[0m                                 Traceback (most recent call last)",
      "\u001b[0;32m<ipython-input-13-ef339235a59d>\u001b[0m in \u001b[0;36m<module>\u001b[0;34m\u001b[0m\n\u001b[1;32m      1\u001b[0m \u001b[0;31m# you should see a picture of a piece of clothing and the clothing label in the title.\u001b[0m\u001b[0;34m\u001b[0m\u001b[0;34m\u001b[0m\u001b[0;34m\u001b[0m\u001b[0m\n\u001b[0;32m----> 2\u001b[0;31m \u001b[0mimg\u001b[0m \u001b[0;34m=\u001b[0m \u001b[0mdataset\u001b[0m\u001b[0;34m[\u001b[0m\u001b[0;34m\"train\"\u001b[0m\u001b[0;34m]\u001b[0m\u001b[0;34m[\u001b[0m\u001b[0;34m\"images\"\u001b[0m\u001b[0;34m]\u001b[0m\u001b[0;34m[\u001b[0m\u001b[0;36m0\u001b[0m\u001b[0;34m]\u001b[0m\u001b[0;34m\u001b[0m\u001b[0;34m\u001b[0m\u001b[0m\n\u001b[0m\u001b[1;32m      3\u001b[0m \u001b[0mlabel\u001b[0m \u001b[0;34m=\u001b[0m \u001b[0mdataset\u001b[0m\u001b[0;34m[\u001b[0m\u001b[0;34m\"train\"\u001b[0m\u001b[0;34m]\u001b[0m\u001b[0;34m[\u001b[0m\u001b[0;34m\"labels\"\u001b[0m\u001b[0;34m]\u001b[0m\u001b[0;34m[\u001b[0m\u001b[0;36m0\u001b[0m\u001b[0;34m]\u001b[0m\u001b[0;34m\u001b[0m\u001b[0;34m\u001b[0m\u001b[0m\n\u001b[1;32m      4\u001b[0m \u001b[0mplot_image\u001b[0m\u001b[0;34m(\u001b[0m\u001b[0mimg\u001b[0m\u001b[0;34m,\u001b[0m \u001b[0mlabel\u001b[0m\u001b[0;34m)\u001b[0m\u001b[0;34m\u001b[0m\u001b[0;34m\u001b[0m\u001b[0m\n\u001b[1;32m      5\u001b[0m \u001b[0;34m\u001b[0m\u001b[0m\n",
      "\u001b[0;31mNameError\u001b[0m: name 'dataset' is not defined"
     ]
    }
   ],
   "source": [
    "# you should see a picture of a piece of clothing and the clothing label in the title.\n",
    "img = dataset[\"train\"][\"images\"][0]\n",
    "label = dataset[\"train\"][\"labels\"][0]\n",
    "plot_image(img, label)\n",
    "\n",
    "### Feel free to edit this code to familiarize yourself with the dataset.\n",
    "print(dataset[\"train\"][\"features\"].shape, dataset[\"test\"][\"features\"].shape)"
   ]
  },
  {
   "cell_type": "markdown",
   "metadata": {
    "deletable": false,
    "editable": false,
    "nbgrader": {
     "cell_type": "markdown",
     "checksum": "960abbe252827c342e4cf70737ba8835",
     "grade": false,
     "grade_id": "cell-c84019a427ec0131",
     "locked": true,
     "schema_version": 3,
     "solution": false,
     "task": false
    }
   },
   "source": [
    "### Q1: Build and Evaluate a SVM Model\n",
    "\n",
    "Previously, we've been using a functional approach to construct models. However, `scikit-learn` does this itself and has enough helper functions so that you can build and test a model in only a couple lines of code. \n",
    "\n",
    "We're now going to use these functions to efficiently:\n",
    "\n",
    "1. Build a SVC model.\n",
    "2. Perform cross validation with **5 splits** and report the **accuracy** (averaged accross folds) (this is the default metric reported) for the model using `cross_val_score`.\n",
    "\n",
    "For the SVC model, you can repeat this process to try different kernels and observe how things change. We've created an initial model below. However when you submit, the below cell should only contain 2-3 lines of code. A line that does (1) and a line that does (2) and maybe some print statements.\n",
    "\n",
    "Cross validation is an extremely expensive process. Be sure to set `n_jobs=-1` in the `cross_val_score` function.\n",
    "\n",
    "**This is an expensive procdure, it can take several minutes.**"
   ]
  },
  {
   "cell_type": "code",
   "execution_count": null,
   "metadata": {
    "deletable": false,
    "nbgrader": {
     "cell_type": "code",
     "checksum": "43ec45efad554dcaaf9bab1fe8aab9c5",
     "grade": true,
     "grade_id": "cell-105b3859c73bfebc",
     "locked": false,
     "points": 4,
     "schema_version": 3,
     "solution": true,
     "task": false
    }
   },
   "outputs": [],
   "source": [
    "from sklearn.model_selection import cross_val_score\n",
    "from sklearn.svm import SVC\n",
    "\n",
    "# Here's an initial model you can start with\n",
    "# model = SVC(kernel='rbf', gamma=0.00001, C=1)\n",
    "model = SVC(kernel='rbf', C=1.0, gamma='scale')\n",
    "\n",
    "# YOUR CODE HERE\n",
    "raise NotImplementedError()"
   ]
  },
  {
   "cell_type": "markdown",
   "metadata": {
    "deletable": false,
    "editable": false,
    "nbgrader": {
     "cell_type": "markdown",
     "checksum": "67e5581721091cb4a0f992159a48be78",
     "grade": false,
     "grade_id": "cell-1d917c5edd506c75",
     "locked": true,
     "schema_version": 3,
     "solution": false,
     "task": false
    }
   },
   "source": [
    "### Q2: Cross Validation Grid Search (4 pts)\n",
    "\n",
    "Now we will perform cross validation to select the $C$ and $\\gamma$ paramters for the `rbf` kernel.\n",
    "\n",
    "This should follow what we demonstrated during the hands-on. You should use the Scikit-learn `GridSearchCV` method to perform cross validation. You can use `cv=5` for the number of folds.\n",
    "\n",
    "For a large dataset, this can be an expensive procedure. \n",
    "\n",
    "**First write your solution, only passing in small subset (~100) of the trainin data to your GridSearchCV call. Once you have it working, time it and estimate how long it will take for the full training dataset before executing.**\n",
    "\n",
    "We have two parameters we need to select: $\\gamma$, which is the parameter for the RBF kernel, and the $C$ paramter, which controls the slack penalty. (Refer to the hands on if you forgot about these.)\n",
    "\n",
    "Make sure to read the [docs]() on `GridSearchCV`. Many parameters are useful, such as `n_jobs`. We recommend setting it to `-1` to use all cores on your CPU.\n",
    "\n",
    "You can use the below to methods to plot the grid returned by the `GridSearchCV` method."
   ]
  },
  {
   "cell_type": "code",
   "execution_count": null,
   "metadata": {
    "deletable": false,
    "editable": false,
    "nbgrader": {
     "cell_type": "code",
     "checksum": "895011a735e77961bab5cd00c26bbfed",
     "grade": false,
     "grade_id": "cell-7eb3c38f32df4dfdfdc6ff",
     "locked": true,
     "schema_version": 3,
     "solution": false,
     "task": false
    }
   },
   "outputs": [],
   "source": [
    "class MidpointNormalize(plt.Normalize):\n",
    "\n",
    "    def __init__(self, vmin=None, vmax=None, midpoint=None, clip=False):\n",
    "        self.midpoint = midpoint\n",
    "        super(MidpointNormalize,self).__init__(vmin, vmax, clip)\n",
    "\n",
    "    def __call__(self, value, clip=None):\n",
    "        x, y = [self.vmin, self.midpoint, self.vmax], [0, 0.5, 1]\n",
    "        return np.ma.masked_array(np.interp(value, x, y))\n",
    "def plotSearchGrid(grid):\n",
    "    \n",
    "    scores = [x for x in grid.cv_results_[\"mean_test_score\"]]\n",
    "    scores = np.array(scores).reshape(len(grid.param_grid[\"C\"]), len(grid.param_grid[\"gamma\"]))\n",
    "\n",
    "    plt.figure(figsize=(10, 8))\n",
    "    plt.subplots_adjust(left=.2, right=0.95, bottom=0.15, top=0.95)\n",
    "    plt.imshow(scores, interpolation='nearest', cmap=plt.cm.hot,\n",
    "               norm=MidpointNormalize(vmin=0.2, midpoint=0.92))\n",
    "    plt.xlabel('gamma')\n",
    "    plt.ylabel('C')\n",
    "    plt.colorbar()\n",
    "    plt.xticks(np.arange(len(grid.param_grid[\"gamma\"])), grid.param_grid[\"gamma\"], rotation=45)\n",
    "    plt.yticks(np.arange(len(grid.param_grid[\"C\"])), grid.param_grid[\"C\"])\n",
    "    plt.title('Validation accuracy')\n",
    "    plt.show()"
   ]
  },
  {
   "cell_type": "code",
   "execution_count": null,
   "metadata": {
    "deletable": false,
    "nbgrader": {
     "cell_type": "code",
     "checksum": "52267cd2a24be03aabc8e858ce9ad187",
     "grade": true,
     "grade_id": "cell-6cd3e483f0b9f005",
     "locked": false,
     "points": 4,
     "schema_version": 3,
     "solution": true,
     "task": false
    }
   },
   "outputs": [],
   "source": [
    "from sklearn.model_selection import cross_val_score, GridSearchCV\n",
    "\n",
    "# Use the following values for your C and gamma values in your grid search.\n",
    "c_range = np.logspace(-5, 4, 5, base=10)\n",
    "g_range = np.logspace(-5, 0, 5, base=10)\n",
    "\n",
    "# YOUR CODE HERE\n",
    "raise NotImplementedError()"
   ]
  },
  {
   "cell_type": "markdown",
   "metadata": {
    "deletable": false,
    "editable": false,
    "nbgrader": {
     "cell_type": "markdown",
     "checksum": "7639fbecb1aa4913536bf7ed7ce770d6",
     "grade": false,
     "grade_id": "cell-f11140f5dc0ae5f5",
     "locked": true,
     "schema_version": 3,
     "solution": false,
     "task": false
    }
   },
   "source": [
    "### Q3: Final Model (3pt)\n",
    "\n",
    "The `GridSearchCV` method automatically returns the best model,traubed on the full training set with the best paramaters in the grid. It can  be accessed using `grid._best_estimator_`.\n",
    "\n",
    "Take the best model and predict on the test set, and report your accuracy and confusion matrix, and print out the best parameters."
   ]
  },
  {
   "cell_type": "code",
   "execution_count": null,
   "metadata": {
    "deletable": false,
    "nbgrader": {
     "cell_type": "code",
     "checksum": "2a1e4424b555ab0ad47b3ed4c422e0d6",
     "grade": true,
     "grade_id": "cell-3e8bb3dda302b328",
     "locked": false,
     "points": 3,
     "schema_version": 3,
     "solution": true,
     "task": false
    }
   },
   "outputs": [],
   "source": [
    "from sklearn.metrics import confusion_matrix\n",
    "from sklearn.metrics import accuracy_score\n",
    "\n",
    "# YOUR CODE HERE\n",
    "raise NotImplementedError()"
   ]
  },
  {
   "cell_type": "markdown",
   "metadata": {
    "deletable": false,
    "editable": false,
    "nbgrader": {
     "cell_type": "markdown",
     "checksum": "bec74bd080520ab016a3b4f627b8906c",
     "grade": false,
     "grade_id": "cell-0cfd38d5499ca2f7",
     "locked": true,
     "schema_version": 3,
     "solution": false,
     "task": false
    }
   },
   "source": [
    "## Extra Credit (4 pts)\n",
    "\n",
    "Gradient descent is a very simple algorithm conceptually:\n",
    "\n",
    "Given a differentiable function which we would like to minimize, $f: \\mathbb{R}^d \\rightarrow \\mathbb{R}$, and a starting point, $x_k \\in \\mathbb{R}^d$, we iteratively \"step\" in the opposite direction of the gradient evaluated at that point, $\\nabla f(x_k) \\in \\mathbb{R}^d$, with a step size $\\alpha > 0$ until we have converged to a local minimum:\n",
    "\n",
    "$$x_{k+1} = x_k - \\alpha \\nabla f(x_k)$$\n",
    "\n",
    "How can we prove that $-\\nabla f$ is the \"best\" direction to step? Well, it is the best if it is the \"steepest\" descent, AKA the direction of maximum decrease, relative to all other direction vectors of the same length. To prove this, we will assume that the following statement (which can be made more formal based on the smoothness of $f$ and Taylor's theorem):\n",
    "\n",
    "$$ f(x+ \\alpha p) = f(x) +  \\alpha \\nabla f(x)^T p + \\epsilon(x_k) \\quad \\quad |\\epsilon(x_k)| << |f(x)^Tp | $$\n",
    "\n",
    "In the above equation, $p$ determines the direction of the step. Using this assumption, argue that \n",
    "\n",
    "$$ \\min_{p} p^T \\nabla f(x_k) \\quad \\text{subject to} \\,\\, \\|p\\| =1 $$  \n",
    "\n",
    "is a reasonable criteron for selecting the best direction and show that \n",
    "\n",
    "$$\\frac{-\\nabla f(x_k)}{\\|f(x_k)\\|}$$\n",
    "\n",
    "is the solution to this criteron.\n",
    "\n"
   ]
  },
  {
   "cell_type": "markdown",
   "metadata": {
    "deletable": false,
    "nbgrader": {
     "cell_type": "markdown",
     "checksum": "81d204710d944b155e2add4f187983fa",
     "grade": true,
     "grade_id": "cell-d89f20c5fe15cc6f",
     "locked": false,
     "points": 0,
     "schema_version": 3,
     "solution": true,
     "task": false
    }
   },
   "source": [
    "YOUR ANSWER HERE"
   ]
  },
  {
   "cell_type": "code",
   "execution_count": null,
   "metadata": {},
   "outputs": [],
   "source": []
  }
 ],
 "metadata": {
  "kernelspec": {
   "display_name": "Python 3",
   "language": "python",
   "name": "python3"
  },
  "language_info": {
   "codemirror_mode": {
    "name": "ipython",
    "version": 3
   },
   "file_extension": ".py",
   "mimetype": "text/x-python",
   "name": "python",
   "nbconvert_exporter": "python",
   "pygments_lexer": "ipython3",
   "version": "3.6.9"
  }
 },
 "nbformat": 4,
 "nbformat_minor": 2
}
